{
  "cells": [
    {
      "cell_type": "markdown",
      "metadata": {
        "id": "SqyoMa3_U7rH"
      },
      "source": [
        "# IFT 4030 / 7030, Machine Learning for Signal Processing, Lab 7\n",
        "\n",
        "In this lab we will cover material from lecture 7. You will be asked questions related to the material we covered during the lecture.\n",
        "\n",
        "This lab counts 1% towards your final grade. Each question will be graded in a binary way. If the code works, and follows the requirements you will get full credit, if not no credit will be given. If you are above 50%, you get full points for the whole lab, if below, you will only leave with what you learn. (if you are below 50%, you will get 0% towards your final grade)\n",
        "\n",
        "This is supposed to individual work. So you are not supposed to collaborate with other students, or copy other people's code. It's okay to talk with others for ideas, but you are supposed write your code individually.\n",
        "\n",
        "You can use pytorch or numpy. But I recommend that you use pytorch as it will serve you better in the rest of the class!\n",
        "\n",
        "If you do not have a google (gmail) account, you will not be able run the cells. So get one! Also, make sure you create a local copy, so that you can save your work, and then you can upload your work on teams. After you are happy with your work, upload your work on Lab 7 in teams.\n",
        "\n",
        "Please do not use any LLM assistance when replying your questions!\n",
        "\n",
        "Have a nice lab!\n",
        "\n",
        "-----------------------\n",
        "\n",
        "Dans ce laboratoire, nous couvrirons le matériel du cours 7. Questions vous seront posées liées au matériel que nous avons couvert pendant le cours.\n",
        "\n",
        "Ce laboratoire compte 1 % dans votre note finale. Chaque question sera notée de manière binaire. Si le code fonctionne et respecte les exigences, vous obtiendrez l'intégralité du crédit, sinon aucun crédit ne sera accordé. Si vous êtes au dessus de 50%, vous obtenez la totalité des points pour l'ensemble du laboratoire, si en dessous, vous ne repartirez qu'avec ce que vous avez appris. (Si vous êtes en dessous de 50%, vous obtiendrez 0% vers votre note finale)\n",
        "\n",
        "Ceci est censé être un travail individuel. Vous n’êtes donc pas censé collaborer avec d’autres étudiants ni copier le code d’autres personnes. C'est bien de discuter avec les autres pour trouver des idées, mais vous êtes censé écrire votre code individuellement.\n",
        "\n",
        "Vous pouvez utiliser pytorch ou numpy. Mais je vous recommande d'utiliser pytorch car il vous servira mieux dans le reste de la classe!\n",
        "\n",
        "Si vous n'avez pas de compte google (gmail), vous ne pourrez pas exécuter les cellules. Alors obtenez-en un! Assurez-vous également de créer une copie locale, afin de pouvoir enregistrer votre travail, puis de télécharger votre travail sur Teams. Une fois que vous êtes satisfait de votre travail, téléchargez votre travail sur Lab 7 en teams.\n",
        "\n",
        "SVP pas d'aide des LLMs quand vous remplissez la réponse!\n",
        "\n",
        "Je vous souhaite un beau laboratoire!"
      ]
    },
    {
      "cell_type": "markdown",
      "metadata": {
        "id": "rpsug2ONBsD6"
      },
      "source": [
        "# Lab 7: A neural network classifier for Spoken Digits\n",
        "\n",
        "In this colab, we will train a classifier on then spoken digit dataset. Let's first install some packages.\n",
        "\n",
        "This task is the audio analog of the famous MNIST classification task.\n",
        "We have 10 classes for 10 digits that are spoken.\n",
        "\n",
        "We expect you to design a neural network classifier that would output the class label given the recording of a digit.\n",
        "\n",
        "You are allowed to use pytorch and torchaudio.\n",
        "\n",
        "---------------------------\n",
        "\n",
        "# Lab 7 : Un classificateur de réseau neuronal pour les chiffres parlés\n",
        "\n",
        "Dans ce laboratoire, nous entraînerons un classificateur sur un ensemble de données de chiffres parlés. Commençons par installer quelques packages.\n",
        "\n",
        "Cette tâche est l’analogue audio de la célèbre tâche de classification MNIST.\n",
        "Nous avons 10 classes pour 10 chiffres parlés.\n",
        "\n",
        "Nous attendons de vous que vous conceviez un classificateur de réseau neuronal qui produirait l'étiquette de classe compte tenu de l'enregistrement d'un chiffre.\n",
        "\n",
        "Vous êtes autorisé à utiliser pytorch et torchaudio.\n",
        "\n"
      ]
    },
    {
      "cell_type": "code",
      "execution_count": 3,
      "metadata": {
        "colab": {
          "base_uri": "https://localhost:8080/"
        },
        "id": "2qqdy505eE50",
        "outputId": "d064415d-a361-4fe7-edd1-978e39babffa"
      },
      "outputs": [
        {
          "name": "stdout",
          "output_type": "stream",
          "text": [
            "Requirement already satisfied: matplotlib in c:\\python311\\lib\\site-packages (3.8.0)"
          ]
        },
        {
          "name": "stderr",
          "output_type": "stream",
          "text": [
            "WARNING: Ignoring invalid distribution ~ (C:\\Python311\\Lib\\site-packages)\n",
            "WARNING: Ignoring invalid distribution ~ccelerate (C:\\Python311\\Lib\\site-packages)\n",
            "WARNING: Ignoring invalid distribution ~ip (C:\\Python311\\Lib\\site-packages)\n",
            "WARNING: Ignoring invalid distribution ~orch (C:\\Python311\\Lib\\site-packages)\n",
            "WARNING: Ignoring invalid distribution ~valuate (C:\\Python311\\Lib\\site-packages)\n",
            "WARNING: Ignoring invalid distribution ~ (C:\\Python311\\Lib\\site-packages)\n",
            "WARNING: Ignoring invalid distribution ~ccelerate (C:\\Python311\\Lib\\site-packages)\n",
            "WARNING: Ignoring invalid distribution ~ip (C:\\Python311\\Lib\\site-packages)\n",
            "WARNING: Ignoring invalid distribution ~orch (C:\\Python311\\Lib\\site-packages)\n",
            "WARNING: Ignoring invalid distribution ~valuate (C:\\Python311\\Lib\\site-packages)\n",
            "\n",
            "[notice] A new release of pip is available: 24.2 -> 24.3.1\n",
            "[notice] To update, run: python.exe -m pip install --upgrade pip\n"
          ]
        },
        {
          "name": "stdout",
          "output_type": "stream",
          "text": [
            "\n",
            "Requirement already satisfied: contourpy>=1.0.1 in c:\\python311\\lib\\site-packages (from matplotlib) (1.1.1)\n",
            "Requirement already satisfied: cycler>=0.10 in c:\\python311\\lib\\site-packages (from matplotlib) (0.12.0)\n",
            "Requirement already satisfied: fonttools>=4.22.0 in c:\\python311\\lib\\site-packages (from matplotlib) (4.43.0)\n",
            "Requirement already satisfied: kiwisolver>=1.0.1 in c:\\python311\\lib\\site-packages (from matplotlib) (1.4.5)\n",
            "Requirement already satisfied: numpy<2,>=1.21 in c:\\users\\pc\\appdata\\roaming\\python\\python311\\site-packages (from matplotlib) (1.26.4)\n",
            "Requirement already satisfied: packaging>=20.0 in c:\\python311\\lib\\site-packages (from matplotlib) (23.1)\n",
            "Requirement already satisfied: pillow>=6.2.0 in c:\\python311\\lib\\site-packages (from matplotlib) (9.5.0)\n",
            "Requirement already satisfied: pyparsing>=2.3.1 in c:\\python311\\lib\\site-packages (from matplotlib) (3.1.1)\n",
            "Requirement already satisfied: python-dateutil>=2.7 in c:\\python311\\lib\\site-packages (from matplotlib) (2.8.2)\n",
            "Requirement already satisfied: six>=1.5 in c:\\python311\\lib\\site-packages (from python-dateutil>=2.7->matplotlib) (1.16.0)\n",
            "Requirement already satisfied: torch in c:\\users\\pc\\appdata\\roaming\\python\\python311\\site-packages (2.3.1)\n",
            "Requirement already satisfied: filelock in c:\\python311\\lib\\site-packages (from torch) (3.13.1)\n",
            "Requirement already satisfied: typing-extensions>=4.8.0 in c:\\users\\pc\\appdata\\roaming\\python\\python311\\site-packages (from torch) (4.12.2)\n",
            "Requirement already satisfied: sympy in c:\\users\\pc\\appdata\\roaming\\python\\python311\\site-packages (from torch) (1.13.1)\n",
            "Requirement already satisfied: networkx in c:\\python311\\lib\\site-packages (from torch) (3.2.1)\n",
            "Requirement already satisfied: jinja2 in c:\\python311\\lib\\site-packages (from torch) (3.1.2)\n",
            "Requirement already satisfied: fsspec in c:\\python311\\lib\\site-packages (from torch) (2023.10.0)\n",
            "Requirement already satisfied: mkl<=2021.4.0,>=2021.1.1 in c:\\users\\pc\\appdata\\roaming\\python\\python311\\site-packages (from torch) (2021.4.0)\n",
            "Requirement already satisfied: intel-openmp==2021.* in c:\\users\\pc\\appdata\\roaming\\python\\python311\\site-packages (from mkl<=2021.4.0,>=2021.1.1->torch) (2021.4.0)\n",
            "Requirement already satisfied: tbb==2021.* in c:\\users\\pc\\appdata\\roaming\\python\\python311\\site-packages (from mkl<=2021.4.0,>=2021.1.1->torch) (2021.13.0)\n",
            "Requirement already satisfied: MarkupSafe>=2.0 in c:\\python311\\lib\\site-packages (from jinja2->torch) (2.1.3)\n",
            "Requirement already satisfied: mpmath<1.4,>=1.1.0 in c:\\python311\\lib\\site-packages (from sympy->torch) (1.3.0)\n"
          ]
        },
        {
          "name": "stderr",
          "output_type": "stream",
          "text": [
            "WARNING: Ignoring invalid distribution ~ (C:\\Python311\\Lib\\site-packages)\n",
            "WARNING: Ignoring invalid distribution ~ccelerate (C:\\Python311\\Lib\\site-packages)\n",
            "WARNING: Ignoring invalid distribution ~ip (C:\\Python311\\Lib\\site-packages)\n",
            "WARNING: Ignoring invalid distribution ~orch (C:\\Python311\\Lib\\site-packages)\n",
            "WARNING: Ignoring invalid distribution ~valuate (C:\\Python311\\Lib\\site-packages)\n",
            "WARNING: Ignoring invalid distribution ~ (C:\\Python311\\Lib\\site-packages)\n",
            "WARNING: Ignoring invalid distribution ~ccelerate (C:\\Python311\\Lib\\site-packages)\n",
            "WARNING: Ignoring invalid distribution ~ip (C:\\Python311\\Lib\\site-packages)\n",
            "WARNING: Ignoring invalid distribution ~orch (C:\\Python311\\Lib\\site-packages)\n",
            "WARNING: Ignoring invalid distribution ~valuate (C:\\Python311\\Lib\\site-packages)\n",
            "\n",
            "[notice] A new release of pip is available: 24.2 -> 24.3.1\n",
            "[notice] To update, run: python.exe -m pip install --upgrade pip\n"
          ]
        },
        {
          "name": "stdout",
          "output_type": "stream",
          "text": [
            "Collecting hub[audio]\n",
            "  Using cached hub-3.0.1-py3-none-any.whl.metadata (389 bytes)\n",
            "Collecting deeplake (from hub[audio])\n",
            "  Using cached deeplake-3.9.27-py3-none-any.whl\n",
            "Requirement already satisfied: numpy<2.0 in c:\\users\\pc\\appdata\\roaming\\python\\python311\\site-packages (from deeplake->hub[audio]) (1.26.4)\n",
            "Collecting pillow~=10.4.0 (from deeplake->hub[audio])\n",
            "  Using cached pillow-10.4.0-cp311-cp311-win_amd64.whl.metadata (9.3 kB)\n",
            "Collecting boto3 (from deeplake->hub[audio])\n",
            "  Using cached boto3-1.35.50-py3-none-any.whl.metadata (6.7 kB)\n",
            "Requirement already satisfied: click in c:\\python311\\lib\\site-packages (from deeplake->hub[audio]) (8.1.7)\n",
            "Collecting pathos (from deeplake->hub[audio])\n",
            "  Using cached pathos-0.3.3-py3-none-any.whl.metadata (11 kB)\n",
            "Collecting humbug>=0.3.1 (from deeplake->hub[audio])\n",
            "  Using cached humbug-0.3.2-py3-none-any.whl.metadata (6.8 kB)\n",
            "Requirement already satisfied: tqdm in c:\\python311\\lib\\site-packages (from deeplake->hub[audio]) (4.66.5)\n",
            "Collecting lz4 (from deeplake->hub[audio])\n",
            "  Using cached lz4-4.3.3-cp311-cp311-win_amd64.whl.metadata (3.8 kB)\n",
            "Requirement already satisfied: pyjwt in c:\\python311\\lib\\site-packages (from deeplake->hub[audio]) (2.8.0)\n",
            "Requirement already satisfied: pydantic in c:\\users\\pc\\appdata\\roaming\\python\\python311\\site-packages (from deeplake->hub[audio]) (2.8.2)\n",
            "Requirement already satisfied: requests in c:\\python311\\lib\\site-packages (from humbug>=0.3.1->deeplake->hub[audio]) (2.31.0)\n",
            "Collecting botocore<1.36.0,>=1.35.50 (from boto3->deeplake->hub[audio])\n",
            "  Using cached botocore-1.35.50-py3-none-any.whl.metadata (5.7 kB)\n",
            "Collecting jmespath<2.0.0,>=0.7.1 (from boto3->deeplake->hub[audio])\n",
            "  Using cached jmespath-1.0.1-py3-none-any.whl.metadata (7.6 kB)\n",
            "Collecting s3transfer<0.11.0,>=0.10.0 (from boto3->deeplake->hub[audio])\n",
            "  Using cached s3transfer-0.10.3-py3-none-any.whl.metadata (1.7 kB)\n",
            "Requirement already satisfied: colorama in c:\\python311\\lib\\site-packages (from click->deeplake->hub[audio]) (0.4.6)\n",
            "Requirement already satisfied: ppft>=1.7.6.9 in c:\\python311\\lib\\site-packages (from pathos->deeplake->hub[audio]) (1.7.6.9)\n",
            "Collecting dill>=0.3.9 (from pathos->deeplake->hub[audio])\n",
            "  Using cached dill-0.3.9-py3-none-any.whl.metadata (10 kB)\n",
            "Requirement already satisfied: pox>=0.3.5 in c:\\python311\\lib\\site-packages (from pathos->deeplake->hub[audio]) (0.3.5)\n",
            "Collecting multiprocess>=0.70.17 (from pathos->deeplake->hub[audio])\n",
            "  Using cached multiprocess-0.70.17-py311-none-any.whl.metadata (7.2 kB)\n",
            "Requirement already satisfied: annotated-types>=0.4.0 in c:\\users\\pc\\appdata\\roaming\\python\\python311\\site-packages (from pydantic->deeplake->hub[audio]) (0.7.0)\n",
            "Requirement already satisfied: pydantic-core==2.20.1 in c:\\users\\pc\\appdata\\roaming\\python\\python311\\site-packages (from pydantic->deeplake->hub[audio]) (2.20.1)\n",
            "Requirement already satisfied: typing-extensions>=4.6.1 in c:\\users\\pc\\appdata\\roaming\\python\\python311\\site-packages (from pydantic->deeplake->hub[audio]) (4.12.2)\n",
            "Requirement already satisfied: python-dateutil<3.0.0,>=2.1 in c:\\python311\\lib\\site-packages (from botocore<1.36.0,>=1.35.50->boto3->deeplake->hub[audio]) (2.8.2)\n",
            "Requirement already satisfied: urllib3!=2.2.0,<3,>=1.25.4 in c:\\python311\\lib\\site-packages (from botocore<1.36.0,>=1.35.50->boto3->deeplake->hub[audio]) (2.0.4)\n",
            "Requirement already satisfied: charset-normalizer<4,>=2 in c:\\python311\\lib\\site-packages (from requests->humbug>=0.3.1->deeplake->hub[audio]) (3.2.0)\n",
            "Requirement already satisfied: idna<4,>=2.5 in c:\\python311\\lib\\site-packages (from requests->humbug>=0.3.1->deeplake->hub[audio]) (3.4)\n",
            "Requirement already satisfied: certifi>=2017.4.17 in c:\\python311\\lib\\site-packages (from requests->humbug>=0.3.1->deeplake->hub[audio]) (2023.7.22)\n",
            "Requirement already satisfied: six>=1.5 in c:\\python311\\lib\\site-packages (from python-dateutil<3.0.0,>=2.1->botocore<1.36.0,>=1.35.50->boto3->deeplake->hub[audio]) (1.16.0)\n",
            "Using cached hub-3.0.1-py3-none-any.whl (1.4 kB)\n",
            "Using cached humbug-0.3.2-py3-none-any.whl (15 kB)\n",
            "Using cached pillow-10.4.0-cp311-cp311-win_amd64.whl (2.6 MB)\n",
            "Using cached boto3-1.35.50-py3-none-any.whl (139 kB)\n",
            "Using cached lz4-4.3.3-cp311-cp311-win_amd64.whl (99 kB)\n",
            "Using cached pathos-0.3.3-py3-none-any.whl (82 kB)\n",
            "Using cached botocore-1.35.50-py3-none-any.whl (12.6 MB)\n",
            "Using cached dill-0.3.9-py3-none-any.whl (119 kB)\n",
            "Using cached jmespath-1.0.1-py3-none-any.whl (20 kB)\n",
            "Using cached multiprocess-0.70.17-py311-none-any.whl (144 kB)\n",
            "Using cached s3transfer-0.10.3-py3-none-any.whl (82 kB)\n",
            "Installing collected packages: pillow, lz4, jmespath, dill, multiprocess, humbug, botocore, s3transfer, pathos, boto3, deeplake, hub\n",
            "Successfully installed boto3-1.35.50 botocore-1.35.50 deeplake-3.9.27 dill-0.3.9 hub-3.0.1 humbug-0.3.2 jmespath-1.0.1 lz4-4.3.3 multiprocess-0.70.17 pathos-0.3.3 pillow-10.4.0 s3transfer-0.10.3\n"
          ]
        },
        {
          "name": "stderr",
          "output_type": "stream",
          "text": [
            "WARNING: Ignoring invalid distribution ~ (C:\\Python311\\Lib\\site-packages)\n",
            "WARNING: Ignoring invalid distribution ~ccelerate (C:\\Python311\\Lib\\site-packages)\n",
            "WARNING: Ignoring invalid distribution ~ip (C:\\Python311\\Lib\\site-packages)\n",
            "WARNING: Ignoring invalid distribution ~orch (C:\\Python311\\Lib\\site-packages)\n",
            "WARNING: Ignoring invalid distribution ~valuate (C:\\Python311\\Lib\\site-packages)\n",
            "WARNING: hub 3.0.1 does not provide the extra 'audio'\n",
            "WARNING: Ignoring invalid distribution ~ (C:\\Python311\\Lib\\site-packages)\n",
            "WARNING: Ignoring invalid distribution ~ccelerate (C:\\Python311\\Lib\\site-packages)\n",
            "WARNING: Ignoring invalid distribution ~ip (C:\\Python311\\Lib\\site-packages)\n",
            "WARNING: Ignoring invalid distribution ~orch (C:\\Python311\\Lib\\site-packages)\n",
            "WARNING: Ignoring invalid distribution ~valuate (C:\\Python311\\Lib\\site-packages)\n",
            "ERROR: pip's dependency resolver does not currently take into account all the packages that are installed. This behaviour is the source of the following dependency conflicts.\n",
            "datasets 2.15.0 requires dill<0.3.8,>=0.3.0, but you have dill 0.3.9 which is incompatible.\n",
            "mediapipe 0.10.8 requires protobuf<4,>=3.11, but you have protobuf 4.25.3 which is incompatible.\n",
            "\n",
            "[notice] A new release of pip is available: 24.2 -> 24.3.1\n",
            "[notice] To update, run: python.exe -m pip install --upgrade pip\n"
          ]
        },
        {
          "name": "stdout",
          "output_type": "stream",
          "text": [
            "Requirement already satisfied: deeplake[audio] in c:\\users\\pc\\appdata\\roaming\\python\\python311\\site-packages (3.9.27)\n",
            "Requirement already satisfied: numpy<2.0 in c:\\users\\pc\\appdata\\roaming\\python\\python311\\site-packages (from deeplake[audio]) (1.26.4)\n",
            "Requirement already satisfied: pillow~=10.4.0 in c:\\users\\pc\\appdata\\roaming\\python\\python311\\site-packages (from deeplake[audio]) (10.4.0)\n",
            "Requirement already satisfied: boto3 in c:\\users\\pc\\appdata\\roaming\\python\\python311\\site-packages (from deeplake[audio]) (1.35.50)\n",
            "Requirement already satisfied: click in c:\\python311\\lib\\site-packages (from deeplake[audio]) (8.1.7)\n",
            "Requirement already satisfied: pathos in c:\\users\\pc\\appdata\\roaming\\python\\python311\\site-packages (from deeplake[audio]) (0.3.3)\n",
            "Requirement already satisfied: humbug>=0.3.1 in c:\\users\\pc\\appdata\\roaming\\python\\python311\\site-packages (from deeplake[audio]) (0.3.2)\n",
            "Requirement already satisfied: tqdm in c:\\python311\\lib\\site-packages (from deeplake[audio]) (4.66.5)\n",
            "Requirement already satisfied: lz4 in c:\\users\\pc\\appdata\\roaming\\python\\python311\\site-packages (from deeplake[audio]) (4.3.3)\n",
            "Requirement already satisfied: pyjwt in c:\\python311\\lib\\site-packages (from deeplake[audio]) (2.8.0)\n",
            "Requirement already satisfied: pydantic in c:\\users\\pc\\appdata\\roaming\\python\\python311\\site-packages (from deeplake[audio]) (2.8.2)\n",
            "Collecting av>=8.1.0 (from deeplake[audio])\n",
            "  Using cached av-13.1.0-cp311-cp311-win_amd64.whl.metadata (4.6 kB)\n",
            "Requirement already satisfied: requests in c:\\python311\\lib\\site-packages (from humbug>=0.3.1->deeplake[audio]) (2.31.0)\n",
            "Requirement already satisfied: botocore<1.36.0,>=1.35.50 in c:\\users\\pc\\appdata\\roaming\\python\\python311\\site-packages (from boto3->deeplake[audio]) (1.35.50)\n",
            "Requirement already satisfied: jmespath<2.0.0,>=0.7.1 in c:\\users\\pc\\appdata\\roaming\\python\\python311\\site-packages (from boto3->deeplake[audio]) (1.0.1)\n",
            "Requirement already satisfied: s3transfer<0.11.0,>=0.10.0 in c:\\users\\pc\\appdata\\roaming\\python\\python311\\site-packages (from boto3->deeplake[audio]) (0.10.3)\n",
            "Requirement already satisfied: colorama in c:\\python311\\lib\\site-packages (from click->deeplake[audio]) (0.4.6)\n",
            "Requirement already satisfied: ppft>=1.7.6.9 in c:\\python311\\lib\\site-packages (from pathos->deeplake[audio]) (1.7.6.9)\n",
            "Requirement already satisfied: dill>=0.3.9 in c:\\users\\pc\\appdata\\roaming\\python\\python311\\site-packages (from pathos->deeplake[audio]) (0.3.9)\n",
            "Requirement already satisfied: pox>=0.3.5 in c:\\python311\\lib\\site-packages (from pathos->deeplake[audio]) (0.3.5)\n",
            "Requirement already satisfied: multiprocess>=0.70.17 in c:\\users\\pc\\appdata\\roaming\\python\\python311\\site-packages (from pathos->deeplake[audio]) (0.70.17)\n",
            "Requirement already satisfied: annotated-types>=0.4.0 in c:\\users\\pc\\appdata\\roaming\\python\\python311\\site-packages (from pydantic->deeplake[audio]) (0.7.0)\n",
            "Requirement already satisfied: pydantic-core==2.20.1 in c:\\users\\pc\\appdata\\roaming\\python\\python311\\site-packages (from pydantic->deeplake[audio]) (2.20.1)\n",
            "Requirement already satisfied: typing-extensions>=4.6.1 in c:\\users\\pc\\appdata\\roaming\\python\\python311\\site-packages (from pydantic->deeplake[audio]) (4.12.2)\n",
            "Requirement already satisfied: python-dateutil<3.0.0,>=2.1 in c:\\python311\\lib\\site-packages (from botocore<1.36.0,>=1.35.50->boto3->deeplake[audio]) (2.8.2)\n",
            "Requirement already satisfied: urllib3!=2.2.0,<3,>=1.25.4 in c:\\python311\\lib\\site-packages (from botocore<1.36.0,>=1.35.50->boto3->deeplake[audio]) (2.0.4)\n",
            "Requirement already satisfied: charset-normalizer<4,>=2 in c:\\python311\\lib\\site-packages (from requests->humbug>=0.3.1->deeplake[audio]) (3.2.0)\n",
            "Requirement already satisfied: idna<4,>=2.5 in c:\\python311\\lib\\site-packages (from requests->humbug>=0.3.1->deeplake[audio]) (3.4)\n",
            "Requirement already satisfied: certifi>=2017.4.17 in c:\\python311\\lib\\site-packages (from requests->humbug>=0.3.1->deeplake[audio]) (2023.7.22)\n",
            "Requirement already satisfied: six>=1.5 in c:\\python311\\lib\\site-packages (from python-dateutil<3.0.0,>=2.1->botocore<1.36.0,>=1.35.50->boto3->deeplake[audio]) (1.16.0)\n",
            "Using cached av-13.1.0-cp311-cp311-win_amd64.whl (25.8 MB)\n",
            "Installing collected packages: av\n",
            "Successfully installed av-13.1.0\n"
          ]
        },
        {
          "name": "stderr",
          "output_type": "stream",
          "text": [
            "WARNING: Ignoring invalid distribution ~ (C:\\Python311\\Lib\\site-packages)\n",
            "WARNING: Ignoring invalid distribution ~ccelerate (C:\\Python311\\Lib\\site-packages)\n",
            "WARNING: Ignoring invalid distribution ~ip (C:\\Python311\\Lib\\site-packages)\n",
            "WARNING: Ignoring invalid distribution ~orch (C:\\Python311\\Lib\\site-packages)\n",
            "WARNING: Ignoring invalid distribution ~valuate (C:\\Python311\\Lib\\site-packages)\n",
            "WARNING: Ignoring invalid distribution ~ (C:\\Python311\\Lib\\site-packages)\n",
            "WARNING: Ignoring invalid distribution ~ccelerate (C:\\Python311\\Lib\\site-packages)\n",
            "WARNING: Ignoring invalid distribution ~ip (C:\\Python311\\Lib\\site-packages)\n",
            "WARNING: Ignoring invalid distribution ~orch (C:\\Python311\\Lib\\site-packages)\n",
            "WARNING: Ignoring invalid distribution ~valuate (C:\\Python311\\Lib\\site-packages)\n",
            "\n",
            "[notice] A new release of pip is available: 24.2 -> 24.3.1\n",
            "[notice] To update, run: python.exe -m pip install --upgrade pip\n"
          ]
        }
      ],
      "source": [
        "!pip install matplotlib --user\n",
        "!pip install torch --user\n",
        "!pip install hub[audio] --user\n",
        "!pip install deeplake[audio] --user"
      ]
    },
    {
      "cell_type": "code",
      "execution_count": 4,
      "metadata": {
        "colab": {
          "base_uri": "https://localhost:8080/"
        },
        "id": "3_dbx-OZBoQ_",
        "outputId": "d06029a0-2431-40e2-cc46-4a2db8a3a978"
      },
      "outputs": [
        {
          "name": "stderr",
          "output_type": "stream",
          "text": [
            "C:\\Users\\PC\\AppData\\Roaming\\Python\\Python311\\site-packages\\deeplake\\util\\check_latest_version.py:32: UserWarning: A newer version of deeplake (4.0.0) is available. It's recommended that you update to the latest version using `pip install -U deeplake`.\n",
            "  warnings.warn(\n",
            "-"
          ]
        },
        {
          "name": "stdout",
          "output_type": "stream",
          "text": [
            "Opening dataset in read-only mode as you don't have write permissions.\n"
          ]
        },
        {
          "name": "stderr",
          "output_type": "stream",
          "text": [
            "-"
          ]
        },
        {
          "name": "stdout",
          "output_type": "stream",
          "text": [
            "This dataset can be visualized in Jupyter Notebook by ds.visualize() or at https://app.activeloop.ai/activeloop/spoken_mnist\n",
            "\n"
          ]
        },
        {
          "name": "stderr",
          "output_type": "stream",
          "text": [
            "-"
          ]
        },
        {
          "name": "stdout",
          "output_type": "stream",
          "text": [
            "hub://activeloop/spoken_mnist loaded successfully.\n",
            "\n"
          ]
        },
        {
          "name": "stderr",
          "output_type": "stream",
          "text": [
            " "
          ]
        }
      ],
      "source": [
        "# Dataset splitting stuff\n",
        "\n",
        "import hub\n",
        "import torch\n",
        "import numpy as np\n",
        "import random\n",
        "ds = hub.load(\"hub://activeloop/spoken_mnist\")\n",
        "import matplotlib.pyplot as plt\n",
        "from IPython.display import Audio\n",
        "\n",
        "N_train = 2500\n",
        "\n",
        "# shuffle the dataset\n",
        "lst_shfl = list(range(3000))\n",
        "random.shuffle(lst_shfl)\n",
        "ds = ds[lst_shfl]\n",
        "\n",
        "# split the dataset\n",
        "ds_train = ds[:N_train]\n",
        "ds_test = ds[N_train:]\n",
        "\n",
        "data = ds_train[0]['audio'].data()['value']\n",
        "Audio(data.squeeze(), rate=8000)\n",
        "\n",
        "# for the next sections\n",
        "data = torch.from_numpy(data).transpose(0, 1)\n"
      ]
    },
    {
      "cell_type": "markdown",
      "metadata": {
        "id": "MAVRR49GKDq3"
      },
      "source": [
        "# Q1: Data visualization (10pt)\n",
        "\n",
        "Here we will plot the variable `data` we have defined above as a raw waveform, as a magnitude spectrogram.\n",
        "\n",
        "# Q1: Visualisation des données (10pt)\n",
        "\n",
        "Ici, nous allons tracer la variable `data` que nous avons définie ci-dessus sous forme d'onde brute, sous forme de spectrogramme de magnitude."
      ]
    },
    {
      "cell_type": "code",
      "execution_count": 14,
      "metadata": {
        "id": "op2rLJWPdgXv"
      },
      "outputs": [
        {
          "data": {
            "image/png": "[encoded data removed]",
            "text/plain": [
              "<Figure size 640x480 with 1 Axes>"
            ]
          },
          "metadata": {},
          "output_type": "display_data"
        },
        {
          "data": {
            "image/png": "[encoded data removed]",
            "text/plain": [
              "<Figure size 500x1000 with 1 Axes>"
            ]
          },
          "metadata": {},
          "output_type": "display_data"
        }
      ],
      "source": [
        "# FILL IN HERE -- visualize some data\n",
        "\n",
        "# TASK 1: plot the raw audio\n",
        "plt.figure()\n",
        "plt.plot(data[0].numpy())\n",
        "plt.title(\"Raw Audio Waveform\")\n",
        "plt.xlabel(\"Sample Index\")\n",
        "plt.ylabel(\"Amplitude\")\n",
        "\n",
        "# TASK 2: calculate the magnitude spectrogram of the audio signal\n",
        "# (use torch.STFT function)\n",
        "spectrogram = torch.stft(data, n_fft=256, hop_length=128, return_complex=True)\n",
        "magnitude_spectrogram = torch.abs(spectrogram)\n",
        "# TASK 3: plot this magnitude spectrogram using matplotlib\n",
        "plt.figure(figsize=[5, 10], dpi=100)\n",
        "plt.imshow(magnitude_spectrogram[0].numpy(), aspect=0.04, origin='lower')\n",
        "plt.title(\"Magnitude Spectrogram\")\n",
        "plt.xlabel(\"Time Frame\")\n",
        "plt.ylabel(\"Frequency Bin\")\n",
        "plt.tight_layout()\n"
      ]
    },
    {
      "cell_type": "markdown",
      "metadata": {
        "id": "8eLJ-q7ONOHp"
      },
      "source": [
        "# Q2 Define a time domain network (30 pt)\n",
        "\n",
        "Here our goal is to define a time domain convolutional neural network to classify variable length sequences.\n",
        "\n",
        "You can follow the pipeline described in slide 40 of https://ycemsubakan.github.io/class_slides2024/mlsp_2024_week7.pdf (You can change the number of convolutional layers if you want but 3 layers should work fine) -- This pipeline is a guideline, of course if you have better ideas, you are more than welcome to explore them, you just need to make sure that your network works with variable length inputs.\n",
        "\n",
        "For convolutional layers use `nn.Conv1d` with a stride value of 4, and kernel size 8. Note that these values are suggested values, and you can change if you wish.\n",
        "\n",
        "After the convolutional layers simply calculate an average over the time axis.\n",
        "\n",
        "Use a linear layer with `nn.Linear` after the pooling to obtain a 10 dimensional output (we have 10 possible classes). More specifically the test you have below should return $B \\times 10$, with $B=1$.\n",
        "\n",
        "---------------------\n",
        "\n",
        "# Q2 Définir un réseau temporel (30 pt)\n",
        "\n",
        "Ici, notre objectif est de définir un réseau neuronal convolutif dans le domaine temporel pour classer des séquences de longueur variable.\n",
        "\n",
        "Vous pouvez suivre le pipeline décrit dans la diapositive 40 de https://ycemsubakan.github.io/class_slides2024/mlsp_2024_week7.pdf (vous pouvez modifier le nombre de couches convolutives si vous le souhaitez mais 3 couches devraient fonctionner correctement) -- Ce pipeline est une ligne directrice, bien sûr, si vous avez de meilleures idées, vous êtes plus que bienvenu pour les explorer, il vous suffit de vous assurer que votre réseau fonctionne avec des entrées de longueur variable.\n",
        "\n",
        "Pour les couches convolutives, utilisez `nn.Conv1d` avec une valeur de foulée de 4 et une taille de noyau de 8. Notez que ces valeurs sont des valeurs suggérées et que vous pouvez les modifier si vous le souhaitez.\n",
        "\n",
        "Après les couches convolutives, calculez simplement une moyenne sur l’axe du temps.\n",
        "\n",
        "Utilisez une couche linéaire avec `nn.Linear` après la mise en commun pour obtenir une sortie en 10 dimensions (nous avons 10 classes possibles). Plus précisément, le test que vous avez ci-dessous devrait renvoyer $B \\times 10$, avec $B=1$."
      ]
    },
    {
      "cell_type": "code",
      "execution_count": 15,
      "metadata": {
        "colab": {
          "base_uri": "https://localhost:8080/"
        },
        "id": "SDA3Cmkq0_mW",
        "outputId": "b1a96c94-01e3-43b0-8bf2-7cb94ac3a6d1"
      },
      "outputs": [
        {
          "name": "stdout",
          "output_type": "stream",
          "text": [
            "torch.Size([1, 10])\n"
          ]
        }
      ],
      "source": [
        "import torch.nn as nn\n",
        "import torch.nn.functional as F\n",
        "\n",
        "# FILL IN HERE: Define your network and forward pass.\n",
        "class Net(nn.Module):\n",
        "    def __init__(self, num_filters):\n",
        "        super().__init__()\n",
        "        # TASK 1: define a network here that would work with time domain inputs\n",
        "        self.conv1 = nn.Conv1d(in_channels=1, out_channels=num_filters, kernel_size=8, stride=4)\n",
        "        self.conv2 = nn.Conv1d(in_channels=num_filters, out_channels=num_filters*2, kernel_size=8, stride=4)\n",
        "        self.conv3 = nn.Conv1d(in_channels=num_filters*2, out_channels=num_filters*4, kernel_size=8, stride=4)\n",
        "        self.fc = nn.Linear(num_filters*4, 10)\n",
        "    def forward(self, x):\n",
        "        # TASK 2: define a forward pass here that would work with time domain inputs -- the output should be a 10-way classification vector\n",
        "        x = F.relu(self.conv1(x))\n",
        "        x = F.relu(self.conv2(x))\n",
        "        x = F.relu(self.conv3(x))\n",
        "        x = x.mean(dim=2)   # pooling over t\n",
        "        x = self.fc(x)\n",
        "        return x\n",
        "\n",
        "# instantiate the net\n",
        "net = Net(num_filters=128)\n",
        "\n",
        "# see if we get the correct output shape\n",
        "y = net.forward(torch.from_numpy(ds_test[0:1]['audio'].numpy()).permute(0, 2, 1).float())\n",
        "print(y.shape)   # see if you get the expected shape\n",
        "\n",
        "\n",
        "# define the optimizer and the loss function\n",
        "import torch.optim as optim\n",
        "\n",
        "criterion = nn.CrossEntropyLoss()\n",
        "optimizer = optim.Adam(net.parameters(), lr=0.0005)\n",
        "\n"
      ]
    },
    {
      "cell_type": "markdown",
      "metadata": {
        "id": "_Tbdsu2KQeur"
      },
      "source": [
        "# Q3: Complete the training loop (60pt)\n",
        "\n",
        "Now, complete the training loop, train the model and obtain a test accuracy greater than 80%. The missing parts are highlighted in the comments.\n",
        "\n",
        "Note that the first epoch will be slower than the rest because of the hub loader we are using in this lab.\n",
        "\n",
        "-----------------------\n",
        "\n",
        "# Q3 : Complétez la boucle d'entraînement (60pt)\n",
        "\n",
        "Maintenant, complétez la boucle d'entraînement, entraînez le modèle et obtenez une précision de test supérieure à 80 %. Les parties manquantes sont mises en évidence dans les commentaires.\n",
        "\n",
        "Notez que la première époque sera plus lente que les autres en raison du chargeur hub que nous utilisons dans ce labo."
      ]
    },
    {
      "cell_type": "code",
      "execution_count": 17,
      "metadata": {
        "colab": {
          "base_uri": "https://localhost:8080/"
        },
        "id": "MBfmTjnH4o6_",
        "outputId": "26ceb3b7-8168-41eb-de73-149e50a306aa"
      },
      "outputs": [
        {
          "name": "stdout",
          "output_type": "stream",
          "text": [
            "[1,     1] loss: 0.012\n",
            "[1,   201] loss: 2.310\n",
            "[1,   401] loss: 2.272\n",
            "[1,   601] loss: 2.130\n",
            "[1,   801] loss: 2.168\n",
            "[1,  1001] loss: 1.950\n",
            "[1,  1201] loss: 1.812\n",
            "[1,  1401] loss: 1.744\n",
            "[1,  1601] loss: 1.669\n",
            "[1,  1801] loss: 1.439\n",
            "[1,  2001] loss: 1.528\n",
            "[1,  2201] loss: 1.516\n",
            "[1,  2401] loss: 1.403\n",
            "[2,     1] loss: 0.009\n",
            "[2,   201] loss: 1.413\n",
            "[2,   401] loss: 1.245\n",
            "[2,   601] loss: 1.370\n",
            "[2,   801] loss: 1.414\n",
            "[2,  1001] loss: 1.276\n",
            "[2,  1201] loss: 1.289\n",
            "[2,  1401] loss: 1.178\n",
            "[2,  1601] loss: 1.267\n",
            "[2,  1801] loss: 0.997\n",
            "[2,  2001] loss: 1.083\n",
            "[2,  2201] loss: 1.171\n",
            "[2,  2401] loss: 1.057\n",
            "[3,     1] loss: 0.007\n",
            "[3,   201] loss: 1.073\n",
            "[3,   401] loss: 0.908\n",
            "[3,   601] loss: 1.040\n",
            "[3,   801] loss: 1.093\n",
            "[3,  1001] loss: 0.978\n",
            "[3,  1201] loss: 0.903\n",
            "[3,  1401] loss: 0.813\n",
            "[3,  1601] loss: 0.943\n",
            "[3,  1801] loss: 0.719\n",
            "[3,  2001] loss: 0.763\n",
            "[3,  2201] loss: 0.894\n",
            "[3,  2401] loss: 0.714\n",
            "[4,     1] loss: 0.009\n",
            "[4,   201] loss: 0.789\n",
            "[4,   401] loss: 0.647\n",
            "[4,   601] loss: 0.770\n",
            "[4,   801] loss: 0.813\n",
            "[4,  1001] loss: 0.703\n",
            "[4,  1201] loss: 0.612\n",
            "[4,  1401] loss: 0.574\n",
            "[4,  1601] loss: 0.686\n",
            "[4,  1801] loss: 0.531\n",
            "[4,  2001] loss: 0.491\n",
            "[4,  2201] loss: 0.654\n",
            "[4,  2401] loss: 0.489\n",
            "[5,     1] loss: 0.006\n",
            "[5,   201] loss: 0.564\n",
            "[5,   401] loss: 0.450\n",
            "[5,   601] loss: 0.568\n",
            "[5,   801] loss: 0.591\n",
            "[5,  1001] loss: 0.492\n",
            "[5,  1201] loss: 0.417\n",
            "[5,  1401] loss: 0.427\n",
            "[5,  1601] loss: 0.507\n",
            "[5,  1801] loss: 0.380\n",
            "[5,  2001] loss: 0.319\n",
            "[5,  2201] loss: 0.454\n",
            "[5,  2401] loss: 0.328\n",
            "[6,     1] loss: 0.008\n",
            "[6,   201] loss: 0.429\n",
            "[6,   401] loss: 0.310\n",
            "[6,   601] loss: 0.384\n",
            "[6,   801] loss: 0.467\n",
            "[6,  1001] loss: 0.363\n",
            "[6,  1201] loss: 0.305\n",
            "[6,  1401] loss: 0.307\n",
            "[6,  1601] loss: 0.393\n",
            "[6,  1801] loss: 0.274\n",
            "[6,  2001] loss: 0.228\n",
            "[6,  2201] loss: 0.298\n",
            "[6,  2401] loss: 0.231\n",
            "[7,     1] loss: 0.003\n",
            "[7,   201] loss: 0.313\n",
            "[7,   401] loss: 0.233\n",
            "[7,   601] loss: 0.261\n",
            "[7,   801] loss: 0.352\n",
            "[7,  1001] loss: 0.253\n",
            "[7,  1201] loss: 0.265\n",
            "[7,  1401] loss: 0.294\n",
            "[7,  1601] loss: 0.309\n",
            "[7,  1801] loss: 0.206\n",
            "[7,  2001] loss: 0.191\n",
            "[7,  2201] loss: 0.241\n",
            "[7,  2401] loss: 0.215\n",
            "[8,     1] loss: 0.001\n",
            "[8,   201] loss: 0.283\n",
            "[8,   401] loss: 0.209\n",
            "[8,   601] loss: 0.237\n",
            "[8,   801] loss: 0.235\n",
            "[8,  1001] loss: 0.192\n",
            "[8,  1201] loss: 0.160\n",
            "[8,  1401] loss: 0.228\n",
            "[8,  1601] loss: 0.214\n",
            "[8,  1801] loss: 0.157\n",
            "[8,  2001] loss: 0.155\n",
            "[8,  2201] loss: 0.168\n",
            "[8,  2401] loss: 0.165\n",
            "[9,     1] loss: 0.000\n",
            "[9,   201] loss: 0.230\n",
            "[9,   401] loss: 0.181\n",
            "[9,   601] loss: 0.197\n",
            "[9,   801] loss: 0.195\n",
            "[9,  1001] loss: 0.137\n",
            "[9,  1201] loss: 0.150\n",
            "[9,  1401] loss: 0.135\n",
            "[9,  1601] loss: 0.266\n",
            "[9,  1801] loss: 0.124\n",
            "[9,  2001] loss: 0.133\n",
            "[9,  2201] loss: 0.173\n",
            "[9,  2401] loss: 0.096\n",
            "[10,     1] loss: 0.000\n",
            "[10,   201] loss: 0.211\n",
            "[10,   401] loss: 0.151\n",
            "[10,   601] loss: 0.140\n",
            "[10,   801] loss: 0.127\n",
            "[10,  1001] loss: 0.087\n",
            "[10,  1201] loss: 0.089\n",
            "[10,  1401] loss: 0.138\n",
            "[10,  1601] loss: 0.152\n",
            "[10,  1801] loss: 0.103\n",
            "[10,  2001] loss: 0.147\n",
            "[10,  2201] loss: 0.260\n",
            "[10,  2401] loss: 0.143\n",
            "Finished Training\n"
          ]
        }
      ],
      "source": [
        "# Now we need to define the training loop\n",
        "\n",
        "for epoch in range(10):  # loop over the dataset multiple times (you might need more than 10 epochs)\n",
        "\n",
        "    running_loss = 0.0\n",
        "    for i, data in enumerate(ds_train):\n",
        "\n",
        "        #  get the inputs and labels to have raw audio and labels from data in correct precision and shape\n",
        "        inputs, labels = torch.from_numpy(data['audio'].data()['value']).float(), torch.from_numpy(data['labels'].data()['value'].astype('long')).reshape(-1)\n",
        "        # normalize the range of the values\n",
        "        inputs = inputs / inputs.abs().max()\n",
        "\n",
        "        # zero the parameter gradients\n",
        "        optimizer.zero_grad()\n",
        "\n",
        "        # forward + backward + optimize\n",
        "        # FILL IN HERE: TASK 1: get the network output in the correct shape\n",
        "        outputs = net(inputs.T.unsqueeze(0))\n",
        "        loss = criterion(outputs, labels.long())\n",
        "        loss.backward()\n",
        "        optimizer.step()\n",
        "\n",
        "        # print statistics\n",
        "        running_loss += loss.item()\n",
        "        if i % 200 == 0:    # print every 200 data items\n",
        "            print(f'[{epoch + 1}, {i + 1:5d}] loss: {running_loss / 200:.3f}')\n",
        "            running_loss = 0.0\n",
        "\n",
        "print('Finished Training')\n"
      ]
    },
    {
      "cell_type": "code",
      "execution_count": 18,
      "metadata": {
        "colab": {
          "base_uri": "https://localhost:8080/",
          "height": 448
        },
        "id": "aG6OgaTJ-RAt",
        "outputId": "6689d46b-f9ec-4736-e7b8-ab4be035f8bc"
      },
      "outputs": [
        {
          "name": "stdout",
          "output_type": "stream",
          "text": [
            "The classification accuracy you are getting is =  89.80000615119934 percent\n"
          ]
        },
        {
          "data": {
            "image/png": "[encoded data removed]",
            "text/plain": [
              "<Figure size 640x480 with 1 Axes>"
            ]
          },
          "metadata": {},
          "output_type": "display_data"
        }
      ],
      "source": [
        "# test on the test set\n",
        "\n",
        "test_set = ds_test\n",
        "\n",
        "conf_mat = torch.zeros(10, 10)\n",
        "for sample in test_set:\n",
        "\n",
        "  inputs, labels = torch.from_numpy(sample['audio'].data()['value']).float(), sample['labels'].data()['value'].item()\n",
        "\n",
        "  inputs = inputs / inputs.abs().max()\n",
        "\n",
        "  outputs = net(inputs.t().unsqueeze(0))\n",
        "  pred = outputs.squeeze().argmax().item()\n",
        "\n",
        "  conf_mat[labels, pred] = conf_mat[labels, pred] + 1\n",
        "\n",
        "acc = np.diag(conf_mat).sum() / conf_mat.sum()\n",
        "\n",
        "plt.imshow(conf_mat)\n",
        "print('The classification accuracy you are getting is = ', acc.item()*100, 'percent')\n"
      ]
    }
  ],
  "metadata": {
    "colab": {
      "provenance": []
    },
    "kernelspec": {
      "display_name": "Python 3",
      "name": "python3"
    },
    "language_info": {
      "codemirror_mode": {
        "name": "ipython",
        "version": 3
      },
      "file_extension": ".py",
      "mimetype": "text/x-python",
      "name": "python",
      "nbconvert_exporter": "python",
      "pygments_lexer": "ipython3",
      "version": "3.11.0"
    }
  },
  "nbformat": 4,
  "nbformat_minor": 0
}
